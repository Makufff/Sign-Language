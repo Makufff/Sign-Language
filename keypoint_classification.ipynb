{
  "cells": [
    {
      "attachments": {},
      "cell_type": "markdown",
      "metadata": {},
      "source": [
        "# LIBRARY"
      ]
    },
    {
      "cell_type": "code",
      "execution_count": 23,
      "metadata": {
        "id": "igMyGnjE9hEp"
      },
      "outputs": [],
      "source": [
        "import csv\n",
        "\n",
        "import numpy as np\n",
        "import tensorflow as tf\n",
        "from sklearn.model_selection import train_test_split\n",
        "\n",
        "RANDOM_SEED = 42"
      ]
    },
    {
      "attachments": {},
      "cell_type": "markdown",
      "metadata": {
        "id": "t2HDvhIu9hEr"
      },
      "source": [
        "# PATH"
      ]
    },
    {
      "cell_type": "code",
      "execution_count": 24,
      "metadata": {
        "id": "9NvZP2Zn9hEy"
      },
      "outputs": [],
      "source": [
        "dataset = 'model/keypoint_classifier/keypoint.csv'\n",
        "model_save_path = 'model/keypoint_classifier/keypoint_classifier.hdf5'\n",
        "tflite_save_path = 'model/keypoint_classifier/keypoint_classifier.tflite'"
      ]
    },
    {
      "attachments": {},
      "cell_type": "markdown",
      "metadata": {
        "id": "s5oMH7x19hEz"
      },
      "source": [
        "# CLASS CNT"
      ]
    },
    {
      "cell_type": "code",
      "execution_count": 25,
      "metadata": {
        "id": "du4kodXL9hEz"
      },
      "outputs": [],
      "source": [
        "NUM_CLASSES = 10"
      ]
    },
    {
      "attachments": {},
      "cell_type": "markdown",
      "metadata": {
        "id": "XjnL0uso9hEz"
      },
      "source": [
        "# Read data"
      ]
    },
    {
      "cell_type": "code",
      "execution_count": 26,
      "metadata": {
        "id": "QT5ZqtEz9hE0"
      },
      "outputs": [],
      "source": [
        "X_dataset = np.loadtxt(dataset, delimiter=',', dtype='float32', usecols=list(range(1, (21 * 2) + 1)))"
      ]
    },
    {
      "cell_type": "code",
      "execution_count": 27,
      "metadata": {
        "id": "QmoKFsp49hE0"
      },
      "outputs": [],
      "source": [
        "y_dataset = np.loadtxt(dataset, delimiter=',', dtype='int32', usecols=(0))"
      ]
    },
    {
      "cell_type": "code",
      "execution_count": 28,
      "metadata": {
        "id": "xQU7JTZ_9hE0"
      },
      "outputs": [],
      "source": [
        "X_train, X_test, y_train, y_test = train_test_split(X_dataset, y_dataset, train_size=0.75, random_state=RANDOM_SEED)"
      ]
    },
    {
      "attachments": {},
      "cell_type": "markdown",
      "metadata": {
        "id": "mxK_lETT9hE0"
      },
      "source": [
        "# Model building"
      ]
    },
    {
      "cell_type": "code",
      "execution_count": 29,
      "metadata": {
        "id": "vHBmUf1t9hE1"
      },
      "outputs": [],
      "source": [
        "model = tf.keras.models.Sequential([\n",
        "    tf.keras.layers.Input((42, )),\n",
        "    tf.keras.layers.Dropout(0.2),\n",
        "    tf.keras.layers.Dense(20, activation='relu'),\n",
        "    tf.keras.layers.Dropout(0.4),\n",
        "    tf.keras.layers.Dense(10, activation='relu'),\n",
        "    tf.keras.layers.Dense(NUM_CLASSES, activation='softmax')\n",
        "])"
      ]
    },
    {
      "cell_type": "code",
      "execution_count": 30,
      "metadata": {
        "colab": {
          "base_uri": "https://localhost:8080/"
        },
        "id": "ypqky9tc9hE1",
        "outputId": "5db082bb-30e3-4110-bf63-a1ee777ecd46"
      },
      "outputs": [
        {
          "name": "stdout",
          "output_type": "stream",
          "text": [
            "Model: \"sequential_1\"\n",
            "_________________________________________________________________\n",
            " Layer (type)                Output Shape              Param #   \n",
            "=================================================================\n",
            " dropout_2 (Dropout)         (None, 42)                0         \n",
            "                                                                 \n",
            " dense_3 (Dense)             (None, 20)                860       \n",
            "                                                                 \n",
            " dropout_3 (Dropout)         (None, 20)                0         \n",
            "                                                                 \n",
            " dense_4 (Dense)             (None, 10)                210       \n",
            "                                                                 \n",
            " dense_5 (Dense)             (None, 10)                110       \n",
            "                                                                 \n",
            "=================================================================\n",
            "Total params: 1,180\n",
            "Trainable params: 1,180\n",
            "Non-trainable params: 0\n",
            "_________________________________________________________________\n"
          ]
        }
      ],
      "source": [
        "model.summary()  # tf.keras.utils.plot_model(model, show_shapes=True)"
      ]
    },
    {
      "cell_type": "code",
      "execution_count": 31,
      "metadata": {
        "id": "MbMjOflQ9hE1"
      },
      "outputs": [],
      "source": [
        "# Model checkpoint callback\n",
        "cp_callback = tf.keras.callbacks.ModelCheckpoint(\n",
        "    model_save_path, verbose=1, save_weights_only=False)\n",
        "# Callback for early stopping\n",
        "es_callback = tf.keras.callbacks.EarlyStopping(patience=20, verbose=1)"
      ]
    },
    {
      "cell_type": "code",
      "execution_count": 32,
      "metadata": {
        "id": "c3Dac0M_9hE2"
      },
      "outputs": [],
      "source": [
        "# Model compilation\n",
        "model.compile(\n",
        "    optimizer='adam',\n",
        "    loss='sparse_categorical_crossentropy',\n",
        "    metrics=['accuracy']\n",
        ")"
      ]
    },
    {
      "attachments": {},
      "cell_type": "markdown",
      "metadata": {
        "id": "7XI0j1Iu9hE2"
      },
      "source": [
        "# Model training"
      ]
    },
    {
      "cell_type": "code",
      "execution_count": 33,
      "metadata": {
        "colab": {
          "base_uri": "https://localhost:8080/"
        },
        "id": "WirBl-JE9hE3",
        "outputId": "71b30ca2-8294-4d9d-8aa2-800d90d399de",
        "scrolled": true
      },
      "outputs": [
        {
          "name": "stdout",
          "output_type": "stream",
          "text": [
            "Epoch 1/1000\n",
            " 1/19 [>.............................] - ETA: 7s - loss: 2.3463 - accuracy: 0.1641\n",
            "Epoch 1: saving model to model/keypoint_classifier\\keypoint_classifier.hdf5\n",
            "19/19 [==============================] - 1s 11ms/step - loss: 2.2898 - accuracy: 0.1525 - val_loss: 2.1213 - val_accuracy: 0.3004\n",
            "Epoch 2/1000\n",
            " 1/19 [>.............................] - ETA: 0s - loss: 2.2366 - accuracy: 0.1562\n",
            "Epoch 2: saving model to model/keypoint_classifier\\keypoint_classifier.hdf5\n",
            "19/19 [==============================] - 0s 4ms/step - loss: 2.1437 - accuracy: 0.2275 - val_loss: 1.9846 - val_accuracy: 0.4054\n",
            "Epoch 3/1000\n",
            " 1/19 [>.............................] - ETA: 0s - loss: 2.0786 - accuracy: 0.1797\n",
            "Epoch 3: saving model to model/keypoint_classifier\\keypoint_classifier.hdf5\n",
            "19/19 [==============================] - 0s 4ms/step - loss: 2.0370 - accuracy: 0.2506 - val_loss: 1.8445 - val_accuracy: 0.3622\n",
            "Epoch 4/1000\n",
            " 1/19 [>.............................] - ETA: 0s - loss: 1.9509 - accuracy: 0.2344\n",
            "Epoch 4: saving model to model/keypoint_classifier\\keypoint_classifier.hdf5\n",
            "19/19 [==============================] - 0s 4ms/step - loss: 1.9303 - accuracy: 0.2737 - val_loss: 1.7021 - val_accuracy: 0.4536\n",
            "Epoch 5/1000\n",
            " 1/19 [>.............................] - ETA: 0s - loss: 1.8507 - accuracy: 0.3359\n",
            "Epoch 5: saving model to model/keypoint_classifier\\keypoint_classifier.hdf5\n",
            "19/19 [==============================] - 0s 4ms/step - loss: 1.8054 - accuracy: 0.3120 - val_loss: 1.5743 - val_accuracy: 0.4685\n",
            "Epoch 6/1000\n",
            " 1/19 [>.............................] - ETA: 0s - loss: 1.7675 - accuracy: 0.3047\n",
            "Epoch 6: saving model to model/keypoint_classifier\\keypoint_classifier.hdf5\n",
            "19/19 [==============================] - 0s 4ms/step - loss: 1.7300 - accuracy: 0.3244 - val_loss: 1.4601 - val_accuracy: 0.5229\n",
            "Epoch 7/1000\n",
            " 1/19 [>.............................] - ETA: 0s - loss: 1.7486 - accuracy: 0.2969\n",
            "Epoch 7: saving model to model/keypoint_classifier\\keypoint_classifier.hdf5\n",
            "19/19 [==============================] - 0s 4ms/step - loss: 1.6424 - accuracy: 0.3644 - val_loss: 1.3526 - val_accuracy: 0.5328\n",
            "Epoch 8/1000\n",
            " 1/19 [>.............................] - ETA: 0s - loss: 1.5845 - accuracy: 0.3984\n",
            "Epoch 8: saving model to model/keypoint_classifier\\keypoint_classifier.hdf5\n",
            "19/19 [==============================] - 0s 4ms/step - loss: 1.5337 - accuracy: 0.3949 - val_loss: 1.2273 - val_accuracy: 0.6959\n",
            "Epoch 9/1000\n",
            " 1/19 [>.............................] - ETA: 0s - loss: 1.5295 - accuracy: 0.3828\n",
            "Epoch 9: saving model to model/keypoint_classifier\\keypoint_classifier.hdf5\n",
            "19/19 [==============================] - 0s 4ms/step - loss: 1.4425 - accuracy: 0.4242 - val_loss: 1.1160 - val_accuracy: 0.6737\n",
            "Epoch 10/1000\n",
            " 1/19 [>.............................] - ETA: 0s - loss: 1.4478 - accuracy: 0.4219\n",
            "Epoch 10: saving model to model/keypoint_classifier\\keypoint_classifier.hdf5\n",
            "19/19 [==============================] - 0s 4ms/step - loss: 1.3292 - accuracy: 0.4909 - val_loss: 1.0107 - val_accuracy: 0.6724\n",
            "Epoch 11/1000\n",
            " 1/19 [>.............................] - ETA: 0s - loss: 1.2240 - accuracy: 0.5391\n",
            "Epoch 11: saving model to model/keypoint_classifier\\keypoint_classifier.hdf5\n",
            "19/19 [==============================] - 0s 4ms/step - loss: 1.2508 - accuracy: 0.5185 - val_loss: 0.9207 - val_accuracy: 0.7738\n",
            "Epoch 12/1000\n",
            " 1/19 [>.............................] - ETA: 0s - loss: 1.1222 - accuracy: 0.5703\n",
            "Epoch 12: saving model to model/keypoint_classifier\\keypoint_classifier.hdf5\n",
            "19/19 [==============================] - 0s 4ms/step - loss: 1.1769 - accuracy: 0.5548 - val_loss: 0.8408 - val_accuracy: 0.8690\n",
            "Epoch 13/1000\n",
            " 1/19 [>.............................] - ETA: 0s - loss: 1.1399 - accuracy: 0.5000\n",
            "Epoch 13: saving model to model/keypoint_classifier\\keypoint_classifier.hdf5\n",
            "19/19 [==============================] - 0s 4ms/step - loss: 1.1090 - accuracy: 0.5730 - val_loss: 0.7798 - val_accuracy: 0.8356\n",
            "Epoch 14/1000\n",
            " 1/19 [>.............................] - ETA: 0s - loss: 1.0061 - accuracy: 0.6094\n",
            "Epoch 14: saving model to model/keypoint_classifier\\keypoint_classifier.hdf5\n",
            "19/19 [==============================] - 0s 4ms/step - loss: 1.0682 - accuracy: 0.5771 - val_loss: 0.7233 - val_accuracy: 0.8616\n",
            "Epoch 15/1000\n",
            " 1/19 [>.............................] - ETA: 0s - loss: 0.9934 - accuracy: 0.5547\n",
            "Epoch 15: saving model to model/keypoint_classifier\\keypoint_classifier.hdf5\n",
            "19/19 [==============================] - 0s 4ms/step - loss: 1.0295 - accuracy: 0.5973 - val_loss: 0.6741 - val_accuracy: 0.8813\n",
            "Epoch 16/1000\n",
            " 1/19 [>.............................] - ETA: 0s - loss: 0.9676 - accuracy: 0.5938\n",
            "Epoch 16: saving model to model/keypoint_classifier\\keypoint_classifier.hdf5\n",
            "19/19 [==============================] - 0s 4ms/step - loss: 0.9797 - accuracy: 0.6101 - val_loss: 0.6319 - val_accuracy: 0.8789\n",
            "Epoch 17/1000\n",
            " 1/19 [>.............................] - ETA: 0s - loss: 1.0724 - accuracy: 0.5391\n",
            "Epoch 17: saving model to model/keypoint_classifier\\keypoint_classifier.hdf5\n",
            "19/19 [==============================] - 0s 4ms/step - loss: 0.9656 - accuracy: 0.6327 - val_loss: 0.5920 - val_accuracy: 0.9023\n",
            "Epoch 18/1000\n",
            " 1/19 [>.............................] - ETA: 0s - loss: 0.8694 - accuracy: 0.6562\n",
            "Epoch 18: saving model to model/keypoint_classifier\\keypoint_classifier.hdf5\n",
            "19/19 [==============================] - 0s 4ms/step - loss: 0.9094 - accuracy: 0.6591 - val_loss: 0.5588 - val_accuracy: 0.9580\n",
            "Epoch 19/1000\n",
            " 1/19 [>.............................] - ETA: 0s - loss: 1.0249 - accuracy: 0.5312\n",
            "Epoch 19: saving model to model/keypoint_classifier\\keypoint_classifier.hdf5\n",
            "19/19 [==============================] - 0s 4ms/step - loss: 0.8820 - accuracy: 0.6542 - val_loss: 0.5218 - val_accuracy: 0.9703\n",
            "Epoch 20/1000\n",
            " 1/19 [>.............................] - ETA: 0s - loss: 0.8084 - accuracy: 0.6641\n",
            "Epoch 20: saving model to model/keypoint_classifier\\keypoint_classifier.hdf5\n",
            "19/19 [==============================] - 0s 4ms/step - loss: 0.8511 - accuracy: 0.6731 - val_loss: 0.4981 - val_accuracy: 0.9679\n",
            "Epoch 21/1000\n",
            " 1/19 [>.............................] - ETA: 0s - loss: 0.7551 - accuracy: 0.7031\n",
            "Epoch 21: saving model to model/keypoint_classifier\\keypoint_classifier.hdf5\n",
            "19/19 [==============================] - 0s 4ms/step - loss: 0.8216 - accuracy: 0.6838 - val_loss: 0.4724 - val_accuracy: 0.9703\n",
            "Epoch 22/1000\n",
            " 1/19 [>.............................] - ETA: 0s - loss: 0.7962 - accuracy: 0.6875\n",
            "Epoch 22: saving model to model/keypoint_classifier\\keypoint_classifier.hdf5\n",
            "19/19 [==============================] - 0s 4ms/step - loss: 0.7916 - accuracy: 0.6962 - val_loss: 0.4480 - val_accuracy: 0.8628\n",
            "Epoch 23/1000\n",
            " 1/19 [>.............................] - ETA: 0s - loss: 0.7561 - accuracy: 0.7266\n",
            "Epoch 23: saving model to model/keypoint_classifier\\keypoint_classifier.hdf5\n",
            "19/19 [==============================] - 0s 4ms/step - loss: 0.7633 - accuracy: 0.7098 - val_loss: 0.4233 - val_accuracy: 0.9666\n",
            "Epoch 24/1000\n",
            " 1/19 [>.............................] - ETA: 0s - loss: 0.8894 - accuracy: 0.6719\n",
            "Epoch 24: saving model to model/keypoint_classifier\\keypoint_classifier.hdf5\n",
            "19/19 [==============================] - 0s 4ms/step - loss: 0.7665 - accuracy: 0.7020 - val_loss: 0.4100 - val_accuracy: 0.8628\n",
            "Epoch 25/1000\n",
            " 1/19 [>.............................] - ETA: 0s - loss: 0.8237 - accuracy: 0.7109\n",
            "Epoch 25: saving model to model/keypoint_classifier\\keypoint_classifier.hdf5\n",
            "19/19 [==============================] - 0s 5ms/step - loss: 0.7332 - accuracy: 0.7226 - val_loss: 0.3895 - val_accuracy: 0.9790\n",
            "Epoch 26/1000\n",
            " 1/19 [>.............................] - ETA: 0s - loss: 0.6740 - accuracy: 0.7344\n",
            "Epoch 26: saving model to model/keypoint_classifier\\keypoint_classifier.hdf5\n",
            "19/19 [==============================] - 0s 4ms/step - loss: 0.7017 - accuracy: 0.7312 - val_loss: 0.3708 - val_accuracy: 0.9839\n",
            "Epoch 27/1000\n",
            " 1/19 [>.............................] - ETA: 0s - loss: 0.6837 - accuracy: 0.7734\n",
            "Epoch 27: saving model to model/keypoint_classifier\\keypoint_classifier.hdf5\n",
            "19/19 [==============================] - 0s 5ms/step - loss: 0.6976 - accuracy: 0.7457 - val_loss: 0.3564 - val_accuracy: 0.9728\n",
            "Epoch 28/1000\n",
            " 1/19 [>.............................] - ETA: 0s - loss: 0.6790 - accuracy: 0.7656\n",
            "Epoch 28: saving model to model/keypoint_classifier\\keypoint_classifier.hdf5\n",
            "19/19 [==============================] - 0s 4ms/step - loss: 0.6614 - accuracy: 0.7572 - val_loss: 0.3438 - val_accuracy: 0.9654\n",
            "Epoch 29/1000\n",
            " 1/19 [>.............................] - ETA: 0s - loss: 0.5655 - accuracy: 0.8203\n",
            "Epoch 29: saving model to model/keypoint_classifier\\keypoint_classifier.hdf5\n",
            "19/19 [==============================] - 0s 5ms/step - loss: 0.6751 - accuracy: 0.7465 - val_loss: 0.3265 - val_accuracy: 0.9617\n",
            "Epoch 30/1000\n",
            " 1/19 [>.............................] - ETA: 0s - loss: 0.6297 - accuracy: 0.7812\n",
            "Epoch 30: saving model to model/keypoint_classifier\\keypoint_classifier.hdf5\n",
            "19/19 [==============================] - 0s 5ms/step - loss: 0.6671 - accuracy: 0.7424 - val_loss: 0.3193 - val_accuracy: 0.9790\n",
            "Epoch 31/1000\n",
            " 1/19 [>.............................] - ETA: 0s - loss: 0.6767 - accuracy: 0.7734\n",
            "Epoch 31: saving model to model/keypoint_classifier\\keypoint_classifier.hdf5\n",
            "19/19 [==============================] - 0s 6ms/step - loss: 0.6462 - accuracy: 0.7510 - val_loss: 0.3032 - val_accuracy: 0.9864\n",
            "Epoch 32/1000\n",
            " 1/19 [>.............................] - ETA: 0s - loss: 0.7525 - accuracy: 0.6953\n",
            "Epoch 32: saving model to model/keypoint_classifier\\keypoint_classifier.hdf5\n",
            "19/19 [==============================] - 0s 4ms/step - loss: 0.6416 - accuracy: 0.7622 - val_loss: 0.2947 - val_accuracy: 0.9839\n",
            "Epoch 33/1000\n",
            " 1/19 [>.............................] - ETA: 0s - loss: 0.6922 - accuracy: 0.7344\n",
            "Epoch 33: saving model to model/keypoint_classifier\\keypoint_classifier.hdf5\n",
            "19/19 [==============================] - 0s 4ms/step - loss: 0.6234 - accuracy: 0.7716 - val_loss: 0.2866 - val_accuracy: 0.9852\n",
            "Epoch 34/1000\n",
            " 1/19 [>.............................] - ETA: 0s - loss: 0.5362 - accuracy: 0.8281\n",
            "Epoch 34: saving model to model/keypoint_classifier\\keypoint_classifier.hdf5\n",
            "19/19 [==============================] - 0s 4ms/step - loss: 0.6015 - accuracy: 0.7733 - val_loss: 0.2765 - val_accuracy: 0.9852\n",
            "Epoch 35/1000\n",
            " 1/19 [>.............................] - ETA: 0s - loss: 0.6602 - accuracy: 0.7656\n",
            "Epoch 35: saving model to model/keypoint_classifier\\keypoint_classifier.hdf5\n",
            "19/19 [==============================] - 0s 4ms/step - loss: 0.6186 - accuracy: 0.7733 - val_loss: 0.2708 - val_accuracy: 0.9802\n",
            "Epoch 36/1000\n",
            " 1/19 [>.............................] - ETA: 0s - loss: 0.5997 - accuracy: 0.7812\n",
            "Epoch 36: saving model to model/keypoint_classifier\\keypoint_classifier.hdf5\n",
            "19/19 [==============================] - 0s 5ms/step - loss: 0.5841 - accuracy: 0.7811 - val_loss: 0.2580 - val_accuracy: 0.9864\n",
            "Epoch 37/1000\n",
            " 1/19 [>.............................] - ETA: 0s - loss: 0.6389 - accuracy: 0.7578\n",
            "Epoch 37: saving model to model/keypoint_classifier\\keypoint_classifier.hdf5\n",
            "19/19 [==============================] - 0s 5ms/step - loss: 0.5942 - accuracy: 0.7733 - val_loss: 0.2598 - val_accuracy: 0.9827\n",
            "Epoch 38/1000\n",
            "13/19 [===================>..........] - ETA: 0s - loss: 0.5852 - accuracy: 0.7716\n",
            "Epoch 38: saving model to model/keypoint_classifier\\keypoint_classifier.hdf5\n",
            "19/19 [==============================] - 0s 7ms/step - loss: 0.5774 - accuracy: 0.7791 - val_loss: 0.2488 - val_accuracy: 0.9864\n",
            "Epoch 39/1000\n",
            " 1/19 [>.............................] - ETA: 0s - loss: 0.6190 - accuracy: 0.7891\n",
            "Epoch 39: saving model to model/keypoint_classifier\\keypoint_classifier.hdf5\n",
            "19/19 [==============================] - 0s 4ms/step - loss: 0.5539 - accuracy: 0.7873 - val_loss: 0.2381 - val_accuracy: 0.9852\n",
            "Epoch 40/1000\n",
            " 1/19 [>.............................] - ETA: 0s - loss: 0.6043 - accuracy: 0.7812\n",
            "Epoch 40: saving model to model/keypoint_classifier\\keypoint_classifier.hdf5\n",
            "19/19 [==============================] - 0s 6ms/step - loss: 0.5420 - accuracy: 0.8021 - val_loss: 0.2296 - val_accuracy: 0.9864\n",
            "Epoch 41/1000\n",
            " 1/19 [>.............................] - ETA: 0s - loss: 0.5365 - accuracy: 0.8203\n",
            "Epoch 41: saving model to model/keypoint_classifier\\keypoint_classifier.hdf5\n",
            "19/19 [==============================] - 0s 3ms/step - loss: 0.5458 - accuracy: 0.8005 - val_loss: 0.2249 - val_accuracy: 0.9876\n",
            "Epoch 42/1000\n",
            " 1/19 [>.............................] - ETA: 0s - loss: 0.5989 - accuracy: 0.8125\n",
            "Epoch 42: saving model to model/keypoint_classifier\\keypoint_classifier.hdf5\n",
            "19/19 [==============================] - 0s 3ms/step - loss: 0.5381 - accuracy: 0.7918 - val_loss: 0.2192 - val_accuracy: 0.9876\n",
            "Epoch 43/1000\n",
            " 1/19 [>.............................] - ETA: 0s - loss: 0.6692 - accuracy: 0.7344\n",
            "Epoch 43: saving model to model/keypoint_classifier\\keypoint_classifier.hdf5\n",
            "19/19 [==============================] - 0s 4ms/step - loss: 0.5267 - accuracy: 0.7988 - val_loss: 0.2113 - val_accuracy: 0.9901\n",
            "Epoch 44/1000\n",
            " 1/19 [>.............................] - ETA: 0s - loss: 0.5244 - accuracy: 0.8203\n",
            "Epoch 44: saving model to model/keypoint_classifier\\keypoint_classifier.hdf5\n",
            "19/19 [==============================] - 0s 4ms/step - loss: 0.5248 - accuracy: 0.7960 - val_loss: 0.2085 - val_accuracy: 0.9889\n",
            "Epoch 45/1000\n",
            " 1/19 [>.............................] - ETA: 0s - loss: 0.5304 - accuracy: 0.8125\n",
            "Epoch 45: saving model to model/keypoint_classifier\\keypoint_classifier.hdf5\n",
            "19/19 [==============================] - 0s 4ms/step - loss: 0.5292 - accuracy: 0.7939 - val_loss: 0.2021 - val_accuracy: 0.9876\n",
            "Epoch 46/1000\n",
            " 1/19 [>.............................] - ETA: 0s - loss: 0.5248 - accuracy: 0.7656\n",
            "Epoch 46: saving model to model/keypoint_classifier\\keypoint_classifier.hdf5\n",
            "19/19 [==============================] - 0s 4ms/step - loss: 0.5281 - accuracy: 0.7960 - val_loss: 0.1977 - val_accuracy: 0.9889\n",
            "Epoch 47/1000\n",
            " 1/19 [>.............................] - ETA: 0s - loss: 0.5939 - accuracy: 0.7578\n",
            "Epoch 47: saving model to model/keypoint_classifier\\keypoint_classifier.hdf5\n",
            "19/19 [==============================] - 0s 4ms/step - loss: 0.5116 - accuracy: 0.8009 - val_loss: 0.1966 - val_accuracy: 0.9876\n",
            "Epoch 48/1000\n",
            " 1/19 [>.............................] - ETA: 0s - loss: 0.5457 - accuracy: 0.8203\n",
            "Epoch 48: saving model to model/keypoint_classifier\\keypoint_classifier.hdf5\n",
            "19/19 [==============================] - 0s 4ms/step - loss: 0.5120 - accuracy: 0.8116 - val_loss: 0.1900 - val_accuracy: 0.9876\n",
            "Epoch 49/1000\n",
            " 1/19 [>.............................] - ETA: 0s - loss: 0.5681 - accuracy: 0.7891\n",
            "Epoch 49: saving model to model/keypoint_classifier\\keypoint_classifier.hdf5\n",
            "19/19 [==============================] - 0s 4ms/step - loss: 0.4964 - accuracy: 0.8129 - val_loss: 0.1836 - val_accuracy: 0.9889\n",
            "Epoch 50/1000\n",
            " 1/19 [>.............................] - ETA: 0s - loss: 0.4488 - accuracy: 0.8516\n",
            "Epoch 50: saving model to model/keypoint_classifier\\keypoint_classifier.hdf5\n",
            "19/19 [==============================] - 0s 4ms/step - loss: 0.4795 - accuracy: 0.8186 - val_loss: 0.1758 - val_accuracy: 0.9901\n",
            "Epoch 51/1000\n",
            " 1/19 [>.............................] - ETA: 0s - loss: 0.4580 - accuracy: 0.8438\n",
            "Epoch 51: saving model to model/keypoint_classifier\\keypoint_classifier.hdf5\n",
            "19/19 [==============================] - 0s 4ms/step - loss: 0.4861 - accuracy: 0.8141 - val_loss: 0.1719 - val_accuracy: 0.9889\n",
            "Epoch 52/1000\n",
            " 1/19 [>.............................] - ETA: 0s - loss: 0.5593 - accuracy: 0.7656\n",
            "Epoch 52: saving model to model/keypoint_classifier\\keypoint_classifier.hdf5\n",
            "19/19 [==============================] - 0s 4ms/step - loss: 0.4767 - accuracy: 0.8203 - val_loss: 0.1687 - val_accuracy: 0.9889\n",
            "Epoch 53/1000\n",
            " 1/19 [>.............................] - ETA: 0s - loss: 0.4578 - accuracy: 0.8828\n",
            "Epoch 53: saving model to model/keypoint_classifier\\keypoint_classifier.hdf5\n",
            "19/19 [==============================] - 0s 4ms/step - loss: 0.4948 - accuracy: 0.8137 - val_loss: 0.1650 - val_accuracy: 0.9901\n",
            "Epoch 54/1000\n",
            " 1/19 [>.............................] - ETA: 0s - loss: 0.4382 - accuracy: 0.8438\n",
            "Epoch 54: saving model to model/keypoint_classifier\\keypoint_classifier.hdf5\n",
            "19/19 [==============================] - 0s 5ms/step - loss: 0.4710 - accuracy: 0.8265 - val_loss: 0.1644 - val_accuracy: 0.9876\n",
            "Epoch 55/1000\n",
            " 1/19 [>.............................] - ETA: 0s - loss: 0.5191 - accuracy: 0.8047\n",
            "Epoch 55: saving model to model/keypoint_classifier\\keypoint_classifier.hdf5\n",
            "19/19 [==============================] - 0s 4ms/step - loss: 0.4779 - accuracy: 0.8228 - val_loss: 0.1613 - val_accuracy: 0.9889\n",
            "Epoch 56/1000\n",
            " 1/19 [>.............................] - ETA: 0s - loss: 0.4745 - accuracy: 0.8359\n",
            "Epoch 56: saving model to model/keypoint_classifier\\keypoint_classifier.hdf5\n",
            "19/19 [==============================] - 0s 4ms/step - loss: 0.4476 - accuracy: 0.8413 - val_loss: 0.1560 - val_accuracy: 0.9889\n",
            "Epoch 57/1000\n",
            " 1/19 [>.............................] - ETA: 0s - loss: 0.4799 - accuracy: 0.8125\n",
            "Epoch 57: saving model to model/keypoint_classifier\\keypoint_classifier.hdf5\n",
            "19/19 [==============================] - 0s 4ms/step - loss: 0.4654 - accuracy: 0.8277 - val_loss: 0.1526 - val_accuracy: 0.9889\n",
            "Epoch 58/1000\n",
            " 1/19 [>.............................] - ETA: 0s - loss: 0.3920 - accuracy: 0.8516\n",
            "Epoch 58: saving model to model/keypoint_classifier\\keypoint_classifier.hdf5\n",
            "19/19 [==============================] - 0s 4ms/step - loss: 0.4438 - accuracy: 0.8269 - val_loss: 0.1483 - val_accuracy: 0.9926\n",
            "Epoch 59/1000\n",
            " 1/19 [>.............................] - ETA: 0s - loss: 0.4926 - accuracy: 0.8359\n",
            "Epoch 59: saving model to model/keypoint_classifier\\keypoint_classifier.hdf5\n",
            "19/19 [==============================] - 0s 6ms/step - loss: 0.4530 - accuracy: 0.8343 - val_loss: 0.1447 - val_accuracy: 0.9889\n",
            "Epoch 60/1000\n",
            " 1/19 [>.............................] - ETA: 0s - loss: 0.5079 - accuracy: 0.8203\n",
            "Epoch 60: saving model to model/keypoint_classifier\\keypoint_classifier.hdf5\n",
            "19/19 [==============================] - 0s 5ms/step - loss: 0.4527 - accuracy: 0.8314 - val_loss: 0.1426 - val_accuracy: 0.9926\n",
            "Epoch 61/1000\n",
            " 1/19 [>.............................] - ETA: 0s - loss: 0.4840 - accuracy: 0.8047\n",
            "Epoch 61: saving model to model/keypoint_classifier\\keypoint_classifier.hdf5\n",
            "19/19 [==============================] - 0s 4ms/step - loss: 0.4519 - accuracy: 0.8322 - val_loss: 0.1358 - val_accuracy: 0.9901\n",
            "Epoch 62/1000\n",
            " 1/19 [>.............................] - ETA: 0s - loss: 0.3578 - accuracy: 0.8906\n",
            "Epoch 62: saving model to model/keypoint_classifier\\keypoint_classifier.hdf5\n",
            "19/19 [==============================] - 0s 4ms/step - loss: 0.4189 - accuracy: 0.8417 - val_loss: 0.1332 - val_accuracy: 0.9913\n",
            "Epoch 63/1000\n",
            " 1/19 [>.............................] - ETA: 0s - loss: 0.4642 - accuracy: 0.8516\n",
            "Epoch 63: saving model to model/keypoint_classifier\\keypoint_classifier.hdf5\n",
            "19/19 [==============================] - 0s 4ms/step - loss: 0.4371 - accuracy: 0.8392 - val_loss: 0.1303 - val_accuracy: 0.9938\n",
            "Epoch 64/1000\n",
            " 1/19 [>.............................] - ETA: 0s - loss: 0.5092 - accuracy: 0.8125\n",
            "Epoch 64: saving model to model/keypoint_classifier\\keypoint_classifier.hdf5\n",
            "19/19 [==============================] - 0s 4ms/step - loss: 0.4466 - accuracy: 0.8351 - val_loss: 0.1323 - val_accuracy: 0.9926\n",
            "Epoch 65/1000\n",
            " 1/19 [>.............................] - ETA: 0s - loss: 0.4012 - accuracy: 0.8281\n",
            "Epoch 65: saving model to model/keypoint_classifier\\keypoint_classifier.hdf5\n",
            "19/19 [==============================] - 0s 4ms/step - loss: 0.3974 - accuracy: 0.8590 - val_loss: 0.1269 - val_accuracy: 0.9913\n",
            "Epoch 66/1000\n",
            " 1/19 [>.............................] - ETA: 0s - loss: 0.3834 - accuracy: 0.8672\n",
            "Epoch 66: saving model to model/keypoint_classifier\\keypoint_classifier.hdf5\n",
            "19/19 [==============================] - 0s 4ms/step - loss: 0.4252 - accuracy: 0.8475 - val_loss: 0.1249 - val_accuracy: 0.9926\n",
            "Epoch 67/1000\n",
            " 1/19 [>.............................] - ETA: 0s - loss: 0.4505 - accuracy: 0.8281\n",
            "Epoch 67: saving model to model/keypoint_classifier\\keypoint_classifier.hdf5\n",
            "19/19 [==============================] - 0s 5ms/step - loss: 0.4058 - accuracy: 0.8537 - val_loss: 0.1203 - val_accuracy: 0.9926\n",
            "Epoch 68/1000\n",
            " 1/19 [>.............................] - ETA: 0s - loss: 0.4247 - accuracy: 0.8438\n",
            "Epoch 68: saving model to model/keypoint_classifier\\keypoint_classifier.hdf5\n",
            "19/19 [==============================] - 0s 4ms/step - loss: 0.4200 - accuracy: 0.8483 - val_loss: 0.1157 - val_accuracy: 0.9938\n",
            "Epoch 69/1000\n",
            " 1/19 [>.............................] - ETA: 0s - loss: 0.4601 - accuracy: 0.8594\n",
            "Epoch 69: saving model to model/keypoint_classifier\\keypoint_classifier.hdf5\n",
            "19/19 [==============================] - 0s 3ms/step - loss: 0.4235 - accuracy: 0.8355 - val_loss: 0.1148 - val_accuracy: 0.9926\n",
            "Epoch 70/1000\n",
            " 1/19 [>.............................] - ETA: 0s - loss: 0.4256 - accuracy: 0.8594\n",
            "Epoch 70: saving model to model/keypoint_classifier\\keypoint_classifier.hdf5\n",
            "19/19 [==============================] - 0s 4ms/step - loss: 0.4015 - accuracy: 0.8467 - val_loss: 0.1112 - val_accuracy: 0.9938\n",
            "Epoch 71/1000\n",
            " 1/19 [>.............................] - ETA: 0s - loss: 0.3790 - accuracy: 0.8906\n",
            "Epoch 71: saving model to model/keypoint_classifier\\keypoint_classifier.hdf5\n",
            "19/19 [==============================] - 0s 4ms/step - loss: 0.4153 - accuracy: 0.8479 - val_loss: 0.1096 - val_accuracy: 0.9963\n",
            "Epoch 72/1000\n",
            " 1/19 [>.............................] - ETA: 0s - loss: 0.3602 - accuracy: 0.8672\n",
            "Epoch 72: saving model to model/keypoint_classifier\\keypoint_classifier.hdf5\n",
            "19/19 [==============================] - 0s 3ms/step - loss: 0.3946 - accuracy: 0.8574 - val_loss: 0.1100 - val_accuracy: 0.9951\n",
            "Epoch 73/1000\n",
            " 1/19 [>.............................] - ETA: 0s - loss: 0.3779 - accuracy: 0.8594\n",
            "Epoch 73: saving model to model/keypoint_classifier\\keypoint_classifier.hdf5\n",
            "19/19 [==============================] - 0s 5ms/step - loss: 0.4108 - accuracy: 0.8545 - val_loss: 0.1076 - val_accuracy: 0.9963\n",
            "Epoch 74/1000\n",
            " 1/19 [>.............................] - ETA: 0s - loss: 0.3048 - accuracy: 0.8906\n",
            "Epoch 74: saving model to model/keypoint_classifier\\keypoint_classifier.hdf5\n",
            "19/19 [==============================] - 0s 5ms/step - loss: 0.4079 - accuracy: 0.8475 - val_loss: 0.1067 - val_accuracy: 0.9938\n",
            "Epoch 75/1000\n",
            " 1/19 [>.............................] - ETA: 0s - loss: 0.3564 - accuracy: 0.8984\n",
            "Epoch 75: saving model to model/keypoint_classifier\\keypoint_classifier.hdf5\n",
            "19/19 [==============================] - 0s 3ms/step - loss: 0.3716 - accuracy: 0.8669 - val_loss: 0.0997 - val_accuracy: 0.9963\n",
            "Epoch 76/1000\n",
            " 1/19 [>.............................] - ETA: 0s - loss: 0.3209 - accuracy: 0.9062\n",
            "Epoch 76: saving model to model/keypoint_classifier\\keypoint_classifier.hdf5\n",
            "19/19 [==============================] - 0s 4ms/step - loss: 0.3998 - accuracy: 0.8500 - val_loss: 0.1016 - val_accuracy: 0.9963\n",
            "Epoch 77/1000\n",
            " 1/19 [>.............................] - ETA: 0s - loss: 0.4767 - accuracy: 0.8125\n",
            "Epoch 77: saving model to model/keypoint_classifier\\keypoint_classifier.hdf5\n",
            "19/19 [==============================] - 0s 3ms/step - loss: 0.3819 - accuracy: 0.8570 - val_loss: 0.0969 - val_accuracy: 0.9988\n",
            "Epoch 78/1000\n",
            " 1/19 [>.............................] - ETA: 0s - loss: 0.3022 - accuracy: 0.8906\n",
            "Epoch 78: saving model to model/keypoint_classifier\\keypoint_classifier.hdf5\n",
            "19/19 [==============================] - 0s 4ms/step - loss: 0.3867 - accuracy: 0.8578 - val_loss: 0.0939 - val_accuracy: 0.9963\n",
            "Epoch 79/1000\n",
            " 1/19 [>.............................] - ETA: 0s - loss: 0.3503 - accuracy: 0.8594\n",
            "Epoch 79: saving model to model/keypoint_classifier\\keypoint_classifier.hdf5\n",
            "19/19 [==============================] - 0s 4ms/step - loss: 0.4032 - accuracy: 0.8491 - val_loss: 0.0955 - val_accuracy: 0.9938\n",
            "Epoch 80/1000\n",
            " 1/19 [>.............................] - ETA: 0s - loss: 0.3554 - accuracy: 0.8828\n",
            "Epoch 80: saving model to model/keypoint_classifier\\keypoint_classifier.hdf5\n",
            "19/19 [==============================] - 0s 4ms/step - loss: 0.3898 - accuracy: 0.8570 - val_loss: 0.0892 - val_accuracy: 0.9988\n",
            "Epoch 81/1000\n",
            " 1/19 [>.............................] - ETA: 0s - loss: 0.3799 - accuracy: 0.8672\n",
            "Epoch 81: saving model to model/keypoint_classifier\\keypoint_classifier.hdf5\n",
            "19/19 [==============================] - 0s 4ms/step - loss: 0.3782 - accuracy: 0.8648 - val_loss: 0.0872 - val_accuracy: 0.9963\n",
            "Epoch 82/1000\n",
            " 1/19 [>.............................] - ETA: 0s - loss: 0.3326 - accuracy: 0.8828\n",
            "Epoch 82: saving model to model/keypoint_classifier\\keypoint_classifier.hdf5\n",
            "19/19 [==============================] - 0s 4ms/step - loss: 0.3868 - accuracy: 0.8553 - val_loss: 0.0895 - val_accuracy: 0.9988\n",
            "Epoch 83/1000\n",
            " 1/19 [>.............................] - ETA: 0s - loss: 0.4145 - accuracy: 0.9062\n",
            "Epoch 83: saving model to model/keypoint_classifier\\keypoint_classifier.hdf5\n",
            "19/19 [==============================] - 0s 5ms/step - loss: 0.3797 - accuracy: 0.8594 - val_loss: 0.0865 - val_accuracy: 0.9988\n",
            "Epoch 84/1000\n",
            "14/19 [=====================>........] - ETA: 0s - loss: 0.3738 - accuracy: 0.8705\n",
            "Epoch 84: saving model to model/keypoint_classifier\\keypoint_classifier.hdf5\n",
            "19/19 [==============================] - 0s 6ms/step - loss: 0.3754 - accuracy: 0.8710 - val_loss: 0.0846 - val_accuracy: 0.9988\n",
            "Epoch 85/1000\n",
            " 1/19 [>.............................] - ETA: 0s - loss: 0.3897 - accuracy: 0.8359\n",
            "Epoch 85: saving model to model/keypoint_classifier\\keypoint_classifier.hdf5\n",
            "19/19 [==============================] - 0s 3ms/step - loss: 0.3710 - accuracy: 0.8611 - val_loss: 0.0865 - val_accuracy: 0.9988\n",
            "Epoch 86/1000\n",
            " 1/19 [>.............................] - ETA: 0s - loss: 0.3554 - accuracy: 0.8906\n",
            "Epoch 86: saving model to model/keypoint_classifier\\keypoint_classifier.hdf5\n",
            "19/19 [==============================] - 0s 4ms/step - loss: 0.3944 - accuracy: 0.8615 - val_loss: 0.0825 - val_accuracy: 0.9988\n",
            "Epoch 87/1000\n",
            " 1/19 [>.............................] - ETA: 0s - loss: 0.3093 - accuracy: 0.8672\n",
            "Epoch 87: saving model to model/keypoint_classifier\\keypoint_classifier.hdf5\n",
            "19/19 [==============================] - 0s 4ms/step - loss: 0.3706 - accuracy: 0.8586 - val_loss: 0.0817 - val_accuracy: 0.9988\n",
            "Epoch 88/1000\n",
            " 1/19 [>.............................] - ETA: 0s - loss: 0.3101 - accuracy: 0.9062\n",
            "Epoch 88: saving model to model/keypoint_classifier\\keypoint_classifier.hdf5\n",
            "19/19 [==============================] - 0s 5ms/step - loss: 0.3632 - accuracy: 0.8648 - val_loss: 0.0798 - val_accuracy: 0.9988\n",
            "Epoch 89/1000\n",
            " 1/19 [>.............................] - ETA: 0s - loss: 0.2982 - accuracy: 0.8750\n",
            "Epoch 89: saving model to model/keypoint_classifier\\keypoint_classifier.hdf5\n",
            "19/19 [==============================] - 0s 4ms/step - loss: 0.3806 - accuracy: 0.8607 - val_loss: 0.0767 - val_accuracy: 0.9988\n",
            "Epoch 90/1000\n",
            " 1/19 [>.............................] - ETA: 0s - loss: 0.2852 - accuracy: 0.8906\n",
            "Epoch 90: saving model to model/keypoint_classifier\\keypoint_classifier.hdf5\n",
            "19/19 [==============================] - 0s 4ms/step - loss: 0.3545 - accuracy: 0.8660 - val_loss: 0.0762 - val_accuracy: 0.9988\n",
            "Epoch 91/1000\n",
            " 1/19 [>.............................] - ETA: 0s - loss: 0.4015 - accuracy: 0.8594\n",
            "Epoch 91: saving model to model/keypoint_classifier\\keypoint_classifier.hdf5\n",
            "19/19 [==============================] - 0s 4ms/step - loss: 0.3711 - accuracy: 0.8631 - val_loss: 0.0718 - val_accuracy: 0.9988\n",
            "Epoch 92/1000\n",
            " 1/19 [>.............................] - ETA: 0s - loss: 0.4798 - accuracy: 0.8594\n",
            "Epoch 92: saving model to model/keypoint_classifier\\keypoint_classifier.hdf5\n",
            "19/19 [==============================] - 0s 4ms/step - loss: 0.3628 - accuracy: 0.8640 - val_loss: 0.0710 - val_accuracy: 0.9988\n",
            "Epoch 93/1000\n",
            " 1/19 [>.............................] - ETA: 0s - loss: 0.3315 - accuracy: 0.8828\n",
            "Epoch 93: saving model to model/keypoint_classifier\\keypoint_classifier.hdf5\n",
            "19/19 [==============================] - 0s 4ms/step - loss: 0.3545 - accuracy: 0.8710 - val_loss: 0.0738 - val_accuracy: 0.9988\n",
            "Epoch 94/1000\n",
            " 1/19 [>.............................] - ETA: 0s - loss: 0.3633 - accuracy: 0.8750\n",
            "Epoch 94: saving model to model/keypoint_classifier\\keypoint_classifier.hdf5\n",
            "19/19 [==============================] - 0s 4ms/step - loss: 0.3608 - accuracy: 0.8681 - val_loss: 0.0704 - val_accuracy: 0.9988\n",
            "Epoch 95/1000\n",
            " 1/19 [>.............................] - ETA: 0s - loss: 0.4181 - accuracy: 0.8047\n",
            "Epoch 95: saving model to model/keypoint_classifier\\keypoint_classifier.hdf5\n",
            "19/19 [==============================] - 0s 4ms/step - loss: 0.3518 - accuracy: 0.8747 - val_loss: 0.0668 - val_accuracy: 0.9988\n",
            "Epoch 96/1000\n",
            " 1/19 [>.............................] - ETA: 0s - loss: 0.2980 - accuracy: 0.8906\n",
            "Epoch 96: saving model to model/keypoint_classifier\\keypoint_classifier.hdf5\n",
            "19/19 [==============================] - 0s 4ms/step - loss: 0.3595 - accuracy: 0.8656 - val_loss: 0.0678 - val_accuracy: 0.9988\n",
            "Epoch 97/1000\n",
            "18/19 [===========================>..] - ETA: 0s - loss: 0.3497 - accuracy: 0.8715\n",
            "Epoch 97: saving model to model/keypoint_classifier\\keypoint_classifier.hdf5\n",
            "19/19 [==============================] - 0s 5ms/step - loss: 0.3538 - accuracy: 0.8697 - val_loss: 0.0686 - val_accuracy: 0.9988\n",
            "Epoch 98/1000\n",
            " 1/19 [>.............................] - ETA: 0s - loss: 0.3321 - accuracy: 0.8828\n",
            "Epoch 98: saving model to model/keypoint_classifier\\keypoint_classifier.hdf5\n",
            "19/19 [==============================] - 0s 3ms/step - loss: 0.3511 - accuracy: 0.8693 - val_loss: 0.0645 - val_accuracy: 0.9988\n",
            "Epoch 99/1000\n",
            " 1/19 [>.............................] - ETA: 0s - loss: 0.2706 - accuracy: 0.9219\n",
            "Epoch 99: saving model to model/keypoint_classifier\\keypoint_classifier.hdf5\n",
            "19/19 [==============================] - 0s 4ms/step - loss: 0.3475 - accuracy: 0.8697 - val_loss: 0.0635 - val_accuracy: 0.9988\n",
            "Epoch 100/1000\n",
            " 1/19 [>.............................] - ETA: 0s - loss: 0.3439 - accuracy: 0.8438\n",
            "Epoch 100: saving model to model/keypoint_classifier\\keypoint_classifier.hdf5\n",
            "19/19 [==============================] - 0s 4ms/step - loss: 0.3487 - accuracy: 0.8784 - val_loss: 0.0640 - val_accuracy: 0.9988\n",
            "Epoch 101/1000\n",
            " 1/19 [>.............................] - ETA: 0s - loss: 0.3100 - accuracy: 0.8906\n",
            "Epoch 101: saving model to model/keypoint_classifier\\keypoint_classifier.hdf5\n",
            "19/19 [==============================] - 0s 4ms/step - loss: 0.3322 - accuracy: 0.8768 - val_loss: 0.0595 - val_accuracy: 0.9988\n",
            "Epoch 102/1000\n",
            " 1/19 [>.............................] - ETA: 0s - loss: 0.2476 - accuracy: 0.9062\n",
            "Epoch 102: saving model to model/keypoint_classifier\\keypoint_classifier.hdf5\n",
            "19/19 [==============================] - 0s 4ms/step - loss: 0.3249 - accuracy: 0.8792 - val_loss: 0.0597 - val_accuracy: 0.9988\n",
            "Epoch 103/1000\n",
            " 1/19 [>.............................] - ETA: 0s - loss: 0.2876 - accuracy: 0.8828\n",
            "Epoch 103: saving model to model/keypoint_classifier\\keypoint_classifier.hdf5\n",
            "19/19 [==============================] - 0s 4ms/step - loss: 0.3295 - accuracy: 0.8866 - val_loss: 0.0586 - val_accuracy: 0.9988\n",
            "Epoch 104/1000\n",
            " 1/19 [>.............................] - ETA: 0s - loss: 0.2950 - accuracy: 0.9141\n",
            "Epoch 104: saving model to model/keypoint_classifier\\keypoint_classifier.hdf5\n",
            "19/19 [==============================] - 0s 4ms/step - loss: 0.3297 - accuracy: 0.8776 - val_loss: 0.0591 - val_accuracy: 0.9988\n",
            "Epoch 105/1000\n",
            " 1/19 [>.............................] - ETA: 0s - loss: 0.3385 - accuracy: 0.8750\n",
            "Epoch 105: saving model to model/keypoint_classifier\\keypoint_classifier.hdf5\n",
            "19/19 [==============================] - 0s 4ms/step - loss: 0.3470 - accuracy: 0.8763 - val_loss: 0.0580 - val_accuracy: 0.9988\n",
            "Epoch 106/1000\n",
            " 1/19 [>.............................] - ETA: 0s - loss: 0.3829 - accuracy: 0.8672\n",
            "Epoch 106: saving model to model/keypoint_classifier\\keypoint_classifier.hdf5\n",
            "19/19 [==============================] - 0s 4ms/step - loss: 0.3402 - accuracy: 0.8817 - val_loss: 0.0578 - val_accuracy: 0.9988\n",
            "Epoch 107/1000\n",
            " 1/19 [>.............................] - ETA: 0s - loss: 0.2880 - accuracy: 0.8906\n",
            "Epoch 107: saving model to model/keypoint_classifier\\keypoint_classifier.hdf5\n",
            "19/19 [==============================] - 0s 4ms/step - loss: 0.3209 - accuracy: 0.8842 - val_loss: 0.0564 - val_accuracy: 0.9975\n",
            "Epoch 108/1000\n",
            " 1/19 [>.............................] - ETA: 0s - loss: 0.3038 - accuracy: 0.9141\n",
            "Epoch 108: saving model to model/keypoint_classifier\\keypoint_classifier.hdf5\n",
            "19/19 [==============================] - 0s 4ms/step - loss: 0.3263 - accuracy: 0.8846 - val_loss: 0.0550 - val_accuracy: 0.9988\n",
            "Epoch 109/1000\n",
            " 1/19 [>.............................] - ETA: 0s - loss: 0.3239 - accuracy: 0.8594\n",
            "Epoch 109: saving model to model/keypoint_classifier\\keypoint_classifier.hdf5\n",
            "19/19 [==============================] - 0s 4ms/step - loss: 0.3389 - accuracy: 0.8772 - val_loss: 0.0539 - val_accuracy: 0.9988\n",
            "Epoch 110/1000\n",
            " 1/19 [>.............................] - ETA: 0s - loss: 0.3711 - accuracy: 0.8750\n",
            "Epoch 110: saving model to model/keypoint_classifier\\keypoint_classifier.hdf5\n",
            "19/19 [==============================] - 0s 5ms/step - loss: 0.3162 - accuracy: 0.8833 - val_loss: 0.0523 - val_accuracy: 0.9988\n",
            "Epoch 111/1000\n",
            " 1/19 [>.............................] - ETA: 0s - loss: 0.2555 - accuracy: 0.9062\n",
            "Epoch 111: saving model to model/keypoint_classifier\\keypoint_classifier.hdf5\n",
            "19/19 [==============================] - 0s 4ms/step - loss: 0.3193 - accuracy: 0.8866 - val_loss: 0.0528 - val_accuracy: 0.9988\n",
            "Epoch 112/1000\n",
            " 1/19 [>.............................] - ETA: 0s - loss: 0.3177 - accuracy: 0.8906\n",
            "Epoch 112: saving model to model/keypoint_classifier\\keypoint_classifier.hdf5\n",
            "19/19 [==============================] - 0s 4ms/step - loss: 0.3170 - accuracy: 0.8887 - val_loss: 0.0532 - val_accuracy: 0.9988\n",
            "Epoch 113/1000\n",
            " 1/19 [>.............................] - ETA: 0s - loss: 0.2890 - accuracy: 0.8906\n",
            "Epoch 113: saving model to model/keypoint_classifier\\keypoint_classifier.hdf5\n",
            "19/19 [==============================] - 0s 4ms/step - loss: 0.3213 - accuracy: 0.8825 - val_loss: 0.0530 - val_accuracy: 0.9988\n",
            "Epoch 114/1000\n",
            " 1/19 [>.............................] - ETA: 0s - loss: 0.3881 - accuracy: 0.8203\n",
            "Epoch 114: saving model to model/keypoint_classifier\\keypoint_classifier.hdf5\n",
            "19/19 [==============================] - 0s 4ms/step - loss: 0.3359 - accuracy: 0.8743 - val_loss: 0.0536 - val_accuracy: 0.9988\n",
            "Epoch 115/1000\n",
            " 1/19 [>.............................] - ETA: 0s - loss: 0.2686 - accuracy: 0.9141\n",
            "Epoch 115: saving model to model/keypoint_classifier\\keypoint_classifier.hdf5\n",
            "19/19 [==============================] - 0s 4ms/step - loss: 0.3205 - accuracy: 0.8866 - val_loss: 0.0550 - val_accuracy: 0.9988\n",
            "Epoch 116/1000\n",
            " 1/19 [>.............................] - ETA: 0s - loss: 0.2836 - accuracy: 0.9219\n",
            "Epoch 116: saving model to model/keypoint_classifier\\keypoint_classifier.hdf5\n",
            "19/19 [==============================] - 0s 4ms/step - loss: 0.3088 - accuracy: 0.8871 - val_loss: 0.0502 - val_accuracy: 0.9988\n",
            "Epoch 117/1000\n",
            " 1/19 [>.............................] - ETA: 0s - loss: 0.2768 - accuracy: 0.9062\n",
            "Epoch 117: saving model to model/keypoint_classifier\\keypoint_classifier.hdf5\n",
            "19/19 [==============================] - 0s 3ms/step - loss: 0.3152 - accuracy: 0.8887 - val_loss: 0.0512 - val_accuracy: 0.9988\n",
            "Epoch 118/1000\n",
            " 1/19 [>.............................] - ETA: 0s - loss: 0.2907 - accuracy: 0.8828\n",
            "Epoch 118: saving model to model/keypoint_classifier\\keypoint_classifier.hdf5\n",
            "19/19 [==============================] - 0s 4ms/step - loss: 0.3171 - accuracy: 0.8842 - val_loss: 0.0501 - val_accuracy: 0.9988\n",
            "Epoch 119/1000\n",
            " 1/19 [>.............................] - ETA: 0s - loss: 0.3806 - accuracy: 0.8672\n",
            "Epoch 119: saving model to model/keypoint_classifier\\keypoint_classifier.hdf5\n",
            "19/19 [==============================] - 0s 4ms/step - loss: 0.3183 - accuracy: 0.8833 - val_loss: 0.0505 - val_accuracy: 0.9988\n",
            "Epoch 120/1000\n",
            " 1/19 [>.............................] - ETA: 0s - loss: 0.2539 - accuracy: 0.9062\n",
            "Epoch 120: saving model to model/keypoint_classifier\\keypoint_classifier.hdf5\n",
            "19/19 [==============================] - 0s 4ms/step - loss: 0.3124 - accuracy: 0.8850 - val_loss: 0.0503 - val_accuracy: 0.9988\n",
            "Epoch 121/1000\n",
            " 1/19 [>.............................] - ETA: 0s - loss: 0.2603 - accuracy: 0.8906\n",
            "Epoch 121: saving model to model/keypoint_classifier\\keypoint_classifier.hdf5\n",
            "19/19 [==============================] - 0s 4ms/step - loss: 0.3033 - accuracy: 0.8932 - val_loss: 0.0490 - val_accuracy: 0.9988\n",
            "Epoch 122/1000\n",
            " 1/19 [>.............................] - ETA: 0s - loss: 0.3038 - accuracy: 0.8828\n",
            "Epoch 122: saving model to model/keypoint_classifier\\keypoint_classifier.hdf5\n",
            "19/19 [==============================] - 0s 7ms/step - loss: 0.3112 - accuracy: 0.8846 - val_loss: 0.0476 - val_accuracy: 0.9988\n",
            "Epoch 123/1000\n",
            " 1/19 [>.............................] - ETA: 0s - loss: 0.3738 - accuracy: 0.8750\n",
            "Epoch 123: saving model to model/keypoint_classifier\\keypoint_classifier.hdf5\n",
            "19/19 [==============================] - 0s 5ms/step - loss: 0.3333 - accuracy: 0.8800 - val_loss: 0.0503 - val_accuracy: 0.9988\n",
            "Epoch 124/1000\n",
            " 1/19 [>.............................] - ETA: 0s - loss: 0.2932 - accuracy: 0.9062\n",
            "Epoch 124: saving model to model/keypoint_classifier\\keypoint_classifier.hdf5\n",
            "19/19 [==============================] - 0s 4ms/step - loss: 0.3148 - accuracy: 0.8866 - val_loss: 0.0496 - val_accuracy: 0.9988\n",
            "Epoch 125/1000\n",
            " 1/19 [>.............................] - ETA: 0s - loss: 0.3446 - accuracy: 0.8906\n",
            "Epoch 125: saving model to model/keypoint_classifier\\keypoint_classifier.hdf5\n",
            "19/19 [==============================] - 0s 4ms/step - loss: 0.3101 - accuracy: 0.8887 - val_loss: 0.0487 - val_accuracy: 0.9988\n",
            "Epoch 126/1000\n",
            " 1/19 [>.............................] - ETA: 0s - loss: 0.3127 - accuracy: 0.8906\n",
            "Epoch 126: saving model to model/keypoint_classifier\\keypoint_classifier.hdf5\n",
            "19/19 [==============================] - 0s 4ms/step - loss: 0.3256 - accuracy: 0.8763 - val_loss: 0.0484 - val_accuracy: 0.9988\n",
            "Epoch 127/1000\n",
            " 1/19 [>.............................] - ETA: 0s - loss: 0.3185 - accuracy: 0.8672\n",
            "Epoch 127: saving model to model/keypoint_classifier\\keypoint_classifier.hdf5\n",
            "19/19 [==============================] - 0s 4ms/step - loss: 0.3155 - accuracy: 0.8858 - val_loss: 0.0481 - val_accuracy: 0.9988\n",
            "Epoch 128/1000\n",
            " 1/19 [>.............................] - ETA: 0s - loss: 0.2224 - accuracy: 0.9141\n",
            "Epoch 128: saving model to model/keypoint_classifier\\keypoint_classifier.hdf5\n",
            "19/19 [==============================] - 0s 4ms/step - loss: 0.2999 - accuracy: 0.8895 - val_loss: 0.0481 - val_accuracy: 0.9988\n",
            "Epoch 129/1000\n",
            " 1/19 [>.............................] - ETA: 0s - loss: 0.2853 - accuracy: 0.8984\n",
            "Epoch 129: saving model to model/keypoint_classifier\\keypoint_classifier.hdf5\n",
            "19/19 [==============================] - 0s 4ms/step - loss: 0.3020 - accuracy: 0.8891 - val_loss: 0.0472 - val_accuracy: 0.9988\n",
            "Epoch 130/1000\n",
            " 1/19 [>.............................] - ETA: 0s - loss: 0.3507 - accuracy: 0.8906\n",
            "Epoch 130: saving model to model/keypoint_classifier\\keypoint_classifier.hdf5\n",
            "19/19 [==============================] - 0s 4ms/step - loss: 0.3153 - accuracy: 0.8858 - val_loss: 0.0497 - val_accuracy: 0.9988\n",
            "Epoch 131/1000\n",
            " 1/19 [>.............................] - ETA: 0s - loss: 0.1998 - accuracy: 0.9219\n",
            "Epoch 131: saving model to model/keypoint_classifier\\keypoint_classifier.hdf5\n",
            "19/19 [==============================] - 0s 4ms/step - loss: 0.2875 - accuracy: 0.8928 - val_loss: 0.0468 - val_accuracy: 0.9988\n",
            "Epoch 132/1000\n",
            " 1/19 [>.............................] - ETA: 0s - loss: 0.2295 - accuracy: 0.9219\n",
            "Epoch 132: saving model to model/keypoint_classifier\\keypoint_classifier.hdf5\n",
            "19/19 [==============================] - 0s 3ms/step - loss: 0.3017 - accuracy: 0.8904 - val_loss: 0.0454 - val_accuracy: 0.9988\n",
            "Epoch 133/1000\n",
            " 1/19 [>.............................] - ETA: 0s - loss: 0.3576 - accuracy: 0.8594\n",
            "Epoch 133: saving model to model/keypoint_classifier\\keypoint_classifier.hdf5\n",
            "19/19 [==============================] - 0s 4ms/step - loss: 0.3004 - accuracy: 0.8846 - val_loss: 0.0463 - val_accuracy: 0.9988\n",
            "Epoch 134/1000\n",
            " 1/19 [>.............................] - ETA: 0s - loss: 0.3105 - accuracy: 0.8906\n",
            "Epoch 134: saving model to model/keypoint_classifier\\keypoint_classifier.hdf5\n",
            "19/19 [==============================] - 0s 4ms/step - loss: 0.3289 - accuracy: 0.8817 - val_loss: 0.0450 - val_accuracy: 0.9988\n",
            "Epoch 135/1000\n",
            "13/19 [===================>..........] - ETA: 0s - loss: 0.2968 - accuracy: 0.8954\n",
            "Epoch 135: saving model to model/keypoint_classifier\\keypoint_classifier.hdf5\n",
            "19/19 [==============================] - 0s 6ms/step - loss: 0.2978 - accuracy: 0.8941 - val_loss: 0.0453 - val_accuracy: 0.9988\n",
            "Epoch 136/1000\n",
            " 1/19 [>.............................] - ETA: 0s - loss: 0.3106 - accuracy: 0.8828\n",
            "Epoch 136: saving model to model/keypoint_classifier\\keypoint_classifier.hdf5\n",
            "19/19 [==============================] - 0s 4ms/step - loss: 0.2897 - accuracy: 0.8998 - val_loss: 0.0455 - val_accuracy: 0.9988\n",
            "Epoch 137/1000\n",
            " 1/19 [>.............................] - ETA: 0s - loss: 0.2772 - accuracy: 0.9062\n",
            "Epoch 137: saving model to model/keypoint_classifier\\keypoint_classifier.hdf5\n",
            "19/19 [==============================] - 0s 4ms/step - loss: 0.3077 - accuracy: 0.8883 - val_loss: 0.0467 - val_accuracy: 0.9988\n",
            "Epoch 138/1000\n",
            " 1/19 [>.............................] - ETA: 0s - loss: 0.3289 - accuracy: 0.8906\n",
            "Epoch 138: saving model to model/keypoint_classifier\\keypoint_classifier.hdf5\n",
            "19/19 [==============================] - 0s 4ms/step - loss: 0.2904 - accuracy: 0.8928 - val_loss: 0.0461 - val_accuracy: 0.9988\n",
            "Epoch 139/1000\n",
            " 1/19 [>.............................] - ETA: 0s - loss: 0.3598 - accuracy: 0.8750\n",
            "Epoch 139: saving model to model/keypoint_classifier\\keypoint_classifier.hdf5\n",
            "19/19 [==============================] - 0s 4ms/step - loss: 0.3117 - accuracy: 0.8895 - val_loss: 0.0450 - val_accuracy: 0.9988\n",
            "Epoch 140/1000\n",
            " 1/19 [>.............................] - ETA: 0s - loss: 0.4375 - accuracy: 0.8359\n",
            "Epoch 140: saving model to model/keypoint_classifier\\keypoint_classifier.hdf5\n",
            "19/19 [==============================] - 0s 4ms/step - loss: 0.2753 - accuracy: 0.9048 - val_loss: 0.0434 - val_accuracy: 0.9988\n",
            "Epoch 141/1000\n",
            " 1/19 [>.............................] - ETA: 0s - loss: 0.2703 - accuracy: 0.9062\n",
            "Epoch 141: saving model to model/keypoint_classifier\\keypoint_classifier.hdf5\n",
            "19/19 [==============================] - 0s 4ms/step - loss: 0.2896 - accuracy: 0.8990 - val_loss: 0.0437 - val_accuracy: 0.9988\n",
            "Epoch 142/1000\n",
            " 1/19 [>.............................] - ETA: 0s - loss: 0.3444 - accuracy: 0.8516\n",
            "Epoch 142: saving model to model/keypoint_classifier\\keypoint_classifier.hdf5\n",
            "19/19 [==============================] - 0s 4ms/step - loss: 0.2901 - accuracy: 0.8953 - val_loss: 0.0432 - val_accuracy: 0.9988\n",
            "Epoch 143/1000\n",
            " 1/19 [>.............................] - ETA: 0s - loss: 0.3504 - accuracy: 0.9141\n",
            "Epoch 143: saving model to model/keypoint_classifier\\keypoint_classifier.hdf5\n",
            "19/19 [==============================] - 0s 4ms/step - loss: 0.2640 - accuracy: 0.9089 - val_loss: 0.0422 - val_accuracy: 0.9988\n",
            "Epoch 144/1000\n",
            " 1/19 [>.............................] - ETA: 0s - loss: 0.3460 - accuracy: 0.8594\n",
            "Epoch 144: saving model to model/keypoint_classifier\\keypoint_classifier.hdf5\n",
            "19/19 [==============================] - 0s 4ms/step - loss: 0.2943 - accuracy: 0.8957 - val_loss: 0.0433 - val_accuracy: 0.9988\n",
            "Epoch 145/1000\n",
            "19/19 [==============================] - ETA: 0s - loss: 0.2909 - accuracy: 0.8937\n",
            "Epoch 145: saving model to model/keypoint_classifier\\keypoint_classifier.hdf5\n",
            "19/19 [==============================] - 0s 6ms/step - loss: 0.2909 - accuracy: 0.8937 - val_loss: 0.0438 - val_accuracy: 0.9988\n",
            "Epoch 146/1000\n",
            " 1/19 [>.............................] - ETA: 0s - loss: 0.3826 - accuracy: 0.8750\n",
            "Epoch 146: saving model to model/keypoint_classifier\\keypoint_classifier.hdf5\n",
            "19/19 [==============================] - 0s 4ms/step - loss: 0.2971 - accuracy: 0.8895 - val_loss: 0.0440 - val_accuracy: 0.9988\n",
            "Epoch 147/1000\n",
            " 1/19 [>.............................] - ETA: 0s - loss: 0.3765 - accuracy: 0.8594\n",
            "Epoch 147: saving model to model/keypoint_classifier\\keypoint_classifier.hdf5\n",
            "19/19 [==============================] - 0s 4ms/step - loss: 0.2843 - accuracy: 0.8895 - val_loss: 0.0416 - val_accuracy: 0.9988\n",
            "Epoch 148/1000\n",
            " 1/19 [>.............................] - ETA: 0s - loss: 0.2404 - accuracy: 0.9453\n",
            "Epoch 148: saving model to model/keypoint_classifier\\keypoint_classifier.hdf5\n",
            "19/19 [==============================] - 0s 4ms/step - loss: 0.2835 - accuracy: 0.9007 - val_loss: 0.0442 - val_accuracy: 0.9988\n",
            "Epoch 149/1000\n",
            " 1/19 [>.............................] - ETA: 0s - loss: 0.1650 - accuracy: 0.9531\n",
            "Epoch 149: saving model to model/keypoint_classifier\\keypoint_classifier.hdf5\n",
            "19/19 [==============================] - 0s 4ms/step - loss: 0.2686 - accuracy: 0.9060 - val_loss: 0.0412 - val_accuracy: 0.9988\n",
            "Epoch 150/1000\n",
            " 1/19 [>.............................] - ETA: 0s - loss: 0.2944 - accuracy: 0.8906\n",
            "Epoch 150: saving model to model/keypoint_classifier\\keypoint_classifier.hdf5\n",
            "19/19 [==============================] - 0s 4ms/step - loss: 0.3109 - accuracy: 0.8887 - val_loss: 0.0433 - val_accuracy: 0.9988\n",
            "Epoch 151/1000\n",
            " 1/19 [>.............................] - ETA: 0s - loss: 0.2428 - accuracy: 0.9297\n",
            "Epoch 151: saving model to model/keypoint_classifier\\keypoint_classifier.hdf5\n",
            "19/19 [==============================] - 0s 4ms/step - loss: 0.2783 - accuracy: 0.9027 - val_loss: 0.0427 - val_accuracy: 0.9988\n",
            "Epoch 152/1000\n",
            " 1/19 [>.............................] - ETA: 0s - loss: 0.3104 - accuracy: 0.8906\n",
            "Epoch 152: saving model to model/keypoint_classifier\\keypoint_classifier.hdf5\n",
            "19/19 [==============================] - 0s 5ms/step - loss: 0.2978 - accuracy: 0.8941 - val_loss: 0.0439 - val_accuracy: 0.9988\n",
            "Epoch 153/1000\n",
            " 1/19 [>.............................] - ETA: 0s - loss: 0.2353 - accuracy: 0.9219\n",
            "Epoch 153: saving model to model/keypoint_classifier\\keypoint_classifier.hdf5\n",
            "19/19 [==============================] - 0s 4ms/step - loss: 0.2604 - accuracy: 0.9138 - val_loss: 0.0427 - val_accuracy: 0.9988\n",
            "Epoch 154/1000\n",
            " 1/19 [>.............................] - ETA: 0s - loss: 0.2640 - accuracy: 0.9062\n",
            "Epoch 154: saving model to model/keypoint_classifier\\keypoint_classifier.hdf5\n",
            "19/19 [==============================] - 0s 4ms/step - loss: 0.2859 - accuracy: 0.9007 - val_loss: 0.0442 - val_accuracy: 0.9988\n",
            "Epoch 155/1000\n",
            " 1/19 [>.............................] - ETA: 0s - loss: 0.3175 - accuracy: 0.8672\n",
            "Epoch 155: saving model to model/keypoint_classifier\\keypoint_classifier.hdf5\n",
            "19/19 [==============================] - 0s 5ms/step - loss: 0.3045 - accuracy: 0.8842 - val_loss: 0.0432 - val_accuracy: 0.9988\n",
            "Epoch 156/1000\n",
            " 1/19 [>.............................] - ETA: 0s - loss: 0.1528 - accuracy: 0.9453\n",
            "Epoch 156: saving model to model/keypoint_classifier\\keypoint_classifier.hdf5\n",
            "19/19 [==============================] - 0s 4ms/step - loss: 0.2751 - accuracy: 0.9019 - val_loss: 0.0429 - val_accuracy: 0.9988\n",
            "Epoch 157/1000\n",
            " 1/19 [>.............................] - ETA: 0s - loss: 0.3188 - accuracy: 0.8516\n",
            "Epoch 157: saving model to model/keypoint_classifier\\keypoint_classifier.hdf5\n",
            "19/19 [==============================] - 0s 4ms/step - loss: 0.2803 - accuracy: 0.8969 - val_loss: 0.0426 - val_accuracy: 0.9988\n",
            "Epoch 158/1000\n",
            " 1/19 [>.............................] - ETA: 0s - loss: 0.2570 - accuracy: 0.9375\n",
            "Epoch 158: saving model to model/keypoint_classifier\\keypoint_classifier.hdf5\n",
            "19/19 [==============================] - 0s 4ms/step - loss: 0.2638 - accuracy: 0.8990 - val_loss: 0.0418 - val_accuracy: 0.9988\n",
            "Epoch 159/1000\n",
            " 1/19 [>.............................] - ETA: 0s - loss: 0.2420 - accuracy: 0.9141\n",
            "Epoch 159: saving model to model/keypoint_classifier\\keypoint_classifier.hdf5\n",
            "19/19 [==============================] - 0s 4ms/step - loss: 0.2818 - accuracy: 0.9007 - val_loss: 0.0414 - val_accuracy: 0.9988\n",
            "Epoch 160/1000\n",
            " 1/19 [>.............................] - ETA: 0s - loss: 0.2757 - accuracy: 0.8828\n",
            "Epoch 160: saving model to model/keypoint_classifier\\keypoint_classifier.hdf5\n",
            "19/19 [==============================] - 0s 4ms/step - loss: 0.2828 - accuracy: 0.8941 - val_loss: 0.0416 - val_accuracy: 0.9988\n",
            "Epoch 161/1000\n",
            " 1/19 [>.............................] - ETA: 0s - loss: 0.3278 - accuracy: 0.8672\n",
            "Epoch 161: saving model to model/keypoint_classifier\\keypoint_classifier.hdf5\n",
            "19/19 [==============================] - 0s 4ms/step - loss: 0.2814 - accuracy: 0.8937 - val_loss: 0.0417 - val_accuracy: 0.9988\n",
            "Epoch 162/1000\n",
            " 1/19 [>.............................] - ETA: 0s - loss: 0.3094 - accuracy: 0.8984\n",
            "Epoch 162: saving model to model/keypoint_classifier\\keypoint_classifier.hdf5\n",
            "19/19 [==============================] - 0s 4ms/step - loss: 0.2792 - accuracy: 0.8957 - val_loss: 0.0414 - val_accuracy: 0.9988\n",
            "Epoch 163/1000\n",
            " 1/19 [>.............................] - ETA: 0s - loss: 0.2706 - accuracy: 0.8984\n",
            "Epoch 163: saving model to model/keypoint_classifier\\keypoint_classifier.hdf5\n",
            "19/19 [==============================] - 0s 4ms/step - loss: 0.2974 - accuracy: 0.8879 - val_loss: 0.0426 - val_accuracy: 0.9988\n",
            "Epoch 164/1000\n",
            " 1/19 [>.............................] - ETA: 0s - loss: 0.2353 - accuracy: 0.9219\n",
            "Epoch 164: saving model to model/keypoint_classifier\\keypoint_classifier.hdf5\n",
            "19/19 [==============================] - 0s 4ms/step - loss: 0.2920 - accuracy: 0.8949 - val_loss: 0.0427 - val_accuracy: 0.9988\n",
            "Epoch 165/1000\n",
            " 1/19 [>.............................] - ETA: 0s - loss: 0.2783 - accuracy: 0.8672\n",
            "Epoch 165: saving model to model/keypoint_classifier\\keypoint_classifier.hdf5\n",
            "19/19 [==============================] - 0s 5ms/step - loss: 0.2764 - accuracy: 0.9023 - val_loss: 0.0429 - val_accuracy: 0.9988\n",
            "Epoch 166/1000\n",
            " 1/19 [>.............................] - ETA: 0s - loss: 0.2507 - accuracy: 0.9062\n",
            "Epoch 166: saving model to model/keypoint_classifier\\keypoint_classifier.hdf5\n",
            "19/19 [==============================] - 0s 4ms/step - loss: 0.2636 - accuracy: 0.9031 - val_loss: 0.0409 - val_accuracy: 0.9988\n",
            "Epoch 167/1000\n",
            " 1/19 [>.............................] - ETA: 0s - loss: 0.2235 - accuracy: 0.9219\n",
            "Epoch 167: saving model to model/keypoint_classifier\\keypoint_classifier.hdf5\n",
            "19/19 [==============================] - 0s 4ms/step - loss: 0.2646 - accuracy: 0.9101 - val_loss: 0.0407 - val_accuracy: 0.9988\n",
            "Epoch 168/1000\n",
            " 1/19 [>.............................] - ETA: 0s - loss: 0.2351 - accuracy: 0.8984\n",
            "Epoch 168: saving model to model/keypoint_classifier\\keypoint_classifier.hdf5\n",
            "19/19 [==============================] - 0s 4ms/step - loss: 0.2737 - accuracy: 0.8982 - val_loss: 0.0400 - val_accuracy: 0.9988\n",
            "Epoch 169/1000\n",
            " 1/19 [>.............................] - ETA: 0s - loss: 0.2034 - accuracy: 0.9297\n",
            "Epoch 169: saving model to model/keypoint_classifier\\keypoint_classifier.hdf5\n",
            "19/19 [==============================] - 0s 4ms/step - loss: 0.2469 - accuracy: 0.9147 - val_loss: 0.0402 - val_accuracy: 0.9988\n",
            "Epoch 170/1000\n",
            " 1/19 [>.............................] - ETA: 0s - loss: 0.1996 - accuracy: 0.9219\n",
            "Epoch 170: saving model to model/keypoint_classifier\\keypoint_classifier.hdf5\n",
            "19/19 [==============================] - 0s 4ms/step - loss: 0.2752 - accuracy: 0.9027 - val_loss: 0.0408 - val_accuracy: 0.9988\n",
            "Epoch 171/1000\n",
            " 1/19 [>.............................] - ETA: 0s - loss: 0.2626 - accuracy: 0.9062\n",
            "Epoch 171: saving model to model/keypoint_classifier\\keypoint_classifier.hdf5\n",
            "19/19 [==============================] - 0s 4ms/step - loss: 0.2723 - accuracy: 0.9060 - val_loss: 0.0394 - val_accuracy: 0.9988\n",
            "Epoch 172/1000\n",
            " 1/19 [>.............................] - ETA: 0s - loss: 0.2463 - accuracy: 0.9062\n",
            "Epoch 172: saving model to model/keypoint_classifier\\keypoint_classifier.hdf5\n",
            "19/19 [==============================] - 0s 4ms/step - loss: 0.2726 - accuracy: 0.8986 - val_loss: 0.0403 - val_accuracy: 0.9988\n",
            "Epoch 173/1000\n",
            " 1/19 [>.............................] - ETA: 0s - loss: 0.4343 - accuracy: 0.8203\n",
            "Epoch 173: saving model to model/keypoint_classifier\\keypoint_classifier.hdf5\n",
            "19/19 [==============================] - 0s 4ms/step - loss: 0.2693 - accuracy: 0.8998 - val_loss: 0.0378 - val_accuracy: 0.9988\n",
            "Epoch 174/1000\n",
            " 1/19 [>.............................] - ETA: 0s - loss: 0.2572 - accuracy: 0.8828\n",
            "Epoch 174: saving model to model/keypoint_classifier\\keypoint_classifier.hdf5\n",
            "19/19 [==============================] - 0s 4ms/step - loss: 0.2440 - accuracy: 0.9101 - val_loss: 0.0396 - val_accuracy: 0.9988\n",
            "Epoch 175/1000\n",
            " 1/19 [>.............................] - ETA: 0s - loss: 0.3122 - accuracy: 0.8828\n",
            "Epoch 175: saving model to model/keypoint_classifier\\keypoint_classifier.hdf5\n",
            "19/19 [==============================] - 0s 4ms/step - loss: 0.2658 - accuracy: 0.8969 - val_loss: 0.0392 - val_accuracy: 0.9988\n",
            "Epoch 176/1000\n",
            "19/19 [==============================] - ETA: 0s - loss: 0.2632 - accuracy: 0.9138\n",
            "Epoch 176: saving model to model/keypoint_classifier\\keypoint_classifier.hdf5\n",
            "19/19 [==============================] - 0s 6ms/step - loss: 0.2632 - accuracy: 0.9138 - val_loss: 0.0380 - val_accuracy: 0.9988\n",
            "Epoch 177/1000\n",
            " 1/19 [>.............................] - ETA: 0s - loss: 0.2336 - accuracy: 0.9453\n",
            "Epoch 177: saving model to model/keypoint_classifier\\keypoint_classifier.hdf5\n",
            "19/19 [==============================] - 0s 4ms/step - loss: 0.2839 - accuracy: 0.8998 - val_loss: 0.0405 - val_accuracy: 0.9988\n",
            "Epoch 178/1000\n",
            " 1/19 [>.............................] - ETA: 0s - loss: 0.2333 - accuracy: 0.9297\n",
            "Epoch 178: saving model to model/keypoint_classifier\\keypoint_classifier.hdf5\n",
            "19/19 [==============================] - 0s 5ms/step - loss: 0.2805 - accuracy: 0.9031 - val_loss: 0.0401 - val_accuracy: 0.9988\n",
            "Epoch 179/1000\n",
            " 1/19 [>.............................] - ETA: 0s - loss: 0.2613 - accuracy: 0.9062\n",
            "Epoch 179: saving model to model/keypoint_classifier\\keypoint_classifier.hdf5\n",
            "19/19 [==============================] - 0s 3ms/step - loss: 0.2619 - accuracy: 0.9031 - val_loss: 0.0395 - val_accuracy: 0.9988\n",
            "Epoch 180/1000\n",
            " 1/19 [>.............................] - ETA: 0s - loss: 0.2940 - accuracy: 0.9219\n",
            "Epoch 180: saving model to model/keypoint_classifier\\keypoint_classifier.hdf5\n",
            "19/19 [==============================] - 0s 4ms/step - loss: 0.2538 - accuracy: 0.9106 - val_loss: 0.0402 - val_accuracy: 0.9988\n",
            "Epoch 181/1000\n",
            " 1/19 [>.............................] - ETA: 0s - loss: 0.2704 - accuracy: 0.8828\n",
            "Epoch 181: saving model to model/keypoint_classifier\\keypoint_classifier.hdf5\n",
            "19/19 [==============================] - 0s 3ms/step - loss: 0.2878 - accuracy: 0.8937 - val_loss: 0.0400 - val_accuracy: 0.9988\n",
            "Epoch 182/1000\n",
            " 1/19 [>.............................] - ETA: 0s - loss: 0.2357 - accuracy: 0.9062\n",
            "Epoch 182: saving model to model/keypoint_classifier\\keypoint_classifier.hdf5\n",
            "19/19 [==============================] - 0s 4ms/step - loss: 0.2842 - accuracy: 0.9019 - val_loss: 0.0408 - val_accuracy: 0.9988\n",
            "Epoch 183/1000\n",
            " 1/19 [>.............................] - ETA: 0s - loss: 0.2360 - accuracy: 0.9062\n",
            "Epoch 183: saving model to model/keypoint_classifier\\keypoint_classifier.hdf5\n",
            "19/19 [==============================] - 0s 4ms/step - loss: 0.2707 - accuracy: 0.9015 - val_loss: 0.0413 - val_accuracy: 0.9988\n",
            "Epoch 184/1000\n",
            " 1/19 [>.............................] - ETA: 0s - loss: 0.3348 - accuracy: 0.8672\n",
            "Epoch 184: saving model to model/keypoint_classifier\\keypoint_classifier.hdf5\n",
            "19/19 [==============================] - 0s 4ms/step - loss: 0.2672 - accuracy: 0.9048 - val_loss: 0.0401 - val_accuracy: 0.9988\n",
            "Epoch 185/1000\n",
            " 1/19 [>.............................] - ETA: 0s - loss: 0.1976 - accuracy: 0.9453\n",
            "Epoch 185: saving model to model/keypoint_classifier\\keypoint_classifier.hdf5\n",
            "19/19 [==============================] - 0s 4ms/step - loss: 0.2816 - accuracy: 0.8982 - val_loss: 0.0404 - val_accuracy: 0.9988\n",
            "Epoch 186/1000\n",
            " 1/19 [>.............................] - ETA: 0s - loss: 0.2078 - accuracy: 0.9453\n",
            "Epoch 186: saving model to model/keypoint_classifier\\keypoint_classifier.hdf5\n",
            "19/19 [==============================] - 0s 5ms/step - loss: 0.2448 - accuracy: 0.9089 - val_loss: 0.0382 - val_accuracy: 0.9988\n",
            "Epoch 187/1000\n",
            " 1/19 [>.............................] - ETA: 0s - loss: 0.2832 - accuracy: 0.9141\n",
            "Epoch 187: saving model to model/keypoint_classifier\\keypoint_classifier.hdf5\n",
            "19/19 [==============================] - 0s 4ms/step - loss: 0.2687 - accuracy: 0.9089 - val_loss: 0.0403 - val_accuracy: 0.9988\n",
            "Epoch 188/1000\n",
            " 1/19 [>.............................] - ETA: 0s - loss: 0.2420 - accuracy: 0.8984\n",
            "Epoch 188: saving model to model/keypoint_classifier\\keypoint_classifier.hdf5\n",
            "19/19 [==============================] - 0s 4ms/step - loss: 0.2475 - accuracy: 0.9138 - val_loss: 0.0399 - val_accuracy: 0.9988\n",
            "Epoch 189/1000\n",
            " 1/19 [>.............................] - ETA: 0s - loss: 0.2436 - accuracy: 0.9141\n",
            "Epoch 189: saving model to model/keypoint_classifier\\keypoint_classifier.hdf5\n",
            "19/19 [==============================] - 0s 4ms/step - loss: 0.2502 - accuracy: 0.9093 - val_loss: 0.0399 - val_accuracy: 0.9988\n",
            "Epoch 190/1000\n",
            " 1/19 [>.............................] - ETA: 0s - loss: 0.2324 - accuracy: 0.9219\n",
            "Epoch 190: saving model to model/keypoint_classifier\\keypoint_classifier.hdf5\n",
            "19/19 [==============================] - 0s 4ms/step - loss: 0.2647 - accuracy: 0.9023 - val_loss: 0.0388 - val_accuracy: 0.9988\n",
            "Epoch 191/1000\n",
            " 1/19 [>.............................] - ETA: 0s - loss: 0.1658 - accuracy: 0.9297\n",
            "Epoch 191: saving model to model/keypoint_classifier\\keypoint_classifier.hdf5\n",
            "19/19 [==============================] - 0s 4ms/step - loss: 0.2564 - accuracy: 0.9068 - val_loss: 0.0386 - val_accuracy: 0.9988\n",
            "Epoch 192/1000\n",
            " 1/19 [>.............................] - ETA: 0s - loss: 0.3482 - accuracy: 0.8594\n",
            "Epoch 192: saving model to model/keypoint_classifier\\keypoint_classifier.hdf5\n",
            "19/19 [==============================] - 0s 4ms/step - loss: 0.2896 - accuracy: 0.8953 - val_loss: 0.0413 - val_accuracy: 0.9988\n",
            "Epoch 193/1000\n",
            " 1/19 [>.............................] - ETA: 0s - loss: 0.2345 - accuracy: 0.8828\n",
            "Epoch 193: saving model to model/keypoint_classifier\\keypoint_classifier.hdf5\n",
            "19/19 [==============================] - 0s 4ms/step - loss: 0.2658 - accuracy: 0.8990 - val_loss: 0.0393 - val_accuracy: 0.9988\n",
            "Epoch 193: early stopping\n"
          ]
        }
      ],
      "source": [
        "history = model.fit(\n",
        "    X_train,\n",
        "    y_train,\n",
        "    epochs=1000,\n",
        "    batch_size=128,\n",
        "    validation_data=(X_test, y_test),\n",
        "    callbacks=[cp_callback, es_callback]\n",
        ")"
      ]
    },
    {
      "cell_type": "code",
      "execution_count": 34,
      "metadata": {},
      "outputs": [
        {
          "data": {
            "image/png": "[encoded data removed]",
            "text/plain": [
              "<Figure size 800x400 with 1 Axes>"
            ]
          },
          "metadata": {},
          "output_type": "display_data"
        },
        {
          "data": {
            "image/png": "[encoded data removed]",
            "text/plain": [
              "<Figure size 800x400 with 1 Axes>"
            ]
          },
          "metadata": {},
          "output_type": "display_data"
        }
      ],
      "source": [
        "import matplotlib.pyplot as plt\n",
        "\n",
        "# Accessing accuracy and loss values from history\n",
        "accuracy = history.history['accuracy']\n",
        "val_accuracy = history.history['val_accuracy']\n",
        "loss = history.history['loss']\n",
        "val_loss = history.history['val_loss']\n",
        "\n",
        "# Plotting accuracy\n",
        "plt.figure(figsize=(8, 4))\n",
        "plt.plot(range(1, len(accuracy) + 1), accuracy, label='Training Accuracy')\n",
        "plt.plot(range(1, len(val_accuracy) + 1), val_accuracy, label='Validation Accuracy')\n",
        "plt.xlabel('Epochs')\n",
        "plt.ylabel('Accuracy')\n",
        "plt.title('Accuracy Graph')\n",
        "plt.legend()\n",
        "plt.grid(True)\n",
        "plt.show()\n",
        "\n",
        "# Plotting loss\n",
        "plt.figure(figsize=(8, 4))\n",
        "plt.plot(range(1, len(loss) + 1), loss, label='Training Loss')\n",
        "plt.plot(range(1, len(val_loss) + 1), val_loss, label='Validation Loss')\n",
        "plt.xlabel('Epochs')\n",
        "plt.ylabel('Loss')\n",
        "plt.title('Loss Graph')\n",
        "plt.legend()\n",
        "plt.grid(True)\n",
        "plt.show()"
      ]
    },
    {
      "cell_type": "code",
      "execution_count": 12,
      "metadata": {
        "colab": {
          "base_uri": "https://localhost:8080/"
        },
        "id": "pxvb2Y299hE3",
        "outputId": "59eb3185-2e37-4b9e-bc9d-ab1b8ac29b7f"
      },
      "outputs": [
        {
          "name": "stdout",
          "output_type": "stream",
          "text": [
            "7/7 [==============================] - 0s 1ms/step - loss: 0.1269 - accuracy: 0.9864\n"
          ]
        }
      ],
      "source": [
        "# Model evaluation\n",
        "val_loss, val_acc = model.evaluate(X_test, y_test, batch_size=128)"
      ]
    },
    {
      "cell_type": "code",
      "execution_count": 13,
      "metadata": {
        "id": "RBkmDeUW9hE4"
      },
      "outputs": [],
      "source": [
        "# Loading the saved model\n",
        "model = tf.keras.models.load_model(model_save_path)"
      ]
    },
    {
      "cell_type": "code",
      "execution_count": 14,
      "metadata": {
        "colab": {
          "base_uri": "https://localhost:8080/"
        },
        "id": "tFz9Tb0I9hE4",
        "outputId": "1c3b3528-54ae-4ee2-ab04-77429211cbef"
      },
      "outputs": [
        {
          "name": "stdout",
          "output_type": "stream",
          "text": [
            "1/1 [==============================] - 0s 61ms/step\n",
            "[1.0281714e-31 5.1806483e-33 0.0000000e+00 0.0000000e+00 1.0000000e+00\n",
            " 0.0000000e+00 0.0000000e+00 1.7551327e-10 1.4028963e-23 0.0000000e+00]\n",
            "4\n"
          ]
        }
      ],
      "source": [
        "# Inference test\n",
        "predict_result = model.predict(np.array([X_test[0]]))\n",
        "print(np.squeeze(predict_result))\n",
        "print(np.argmax(np.squeeze(predict_result)))"
      ]
    },
    {
      "attachments": {},
      "cell_type": "markdown",
      "metadata": {
        "id": "S3U4yNWx9hE4"
      },
      "source": [
        "# Confusion matrix"
      ]
    },
    {
      "cell_type": "code",
      "execution_count": 15,
      "metadata": {
        "colab": {
          "base_uri": "https://localhost:8080/",
          "height": 582
        },
        "id": "AP1V6SCk9hE5",
        "outputId": "08e41a80-7a4a-4619-8125-ecc371368d19"
      },
      "outputs": [
        {
          "name": "stdout",
          "output_type": "stream",
          "text": [
            "26/26 [==============================] - 0s 628us/step\n"
          ]
        },
        {
          "data": {
            "image/png": "[encoded data removed]",
            "text/plain": [
              "<Figure size 700x600 with 2 Axes>"
            ]
          },
          "metadata": {},
          "output_type": "display_data"
        },
        {
          "name": "stdout",
          "output_type": "stream",
          "text": [
            "Classification Report\n",
            "              precision    recall  f1-score   support\n",
            "\n",
            "           0       1.00      0.89      0.94        96\n",
            "           1       1.00      1.00      1.00        98\n",
            "           2       1.00      1.00      1.00        72\n",
            "           3       1.00      1.00      1.00        78\n",
            "           4       1.00      1.00      1.00        65\n",
            "           5       1.00      1.00      1.00        76\n",
            "           6       0.88      1.00      0.94        73\n",
            "           7       0.99      1.00      1.00       102\n",
            "           8       1.00      1.00      1.00        70\n",
            "           9       1.00      1.00      1.00        79\n",
            "\n",
            "    accuracy                           0.99       809\n",
            "   macro avg       0.99      0.99      0.99       809\n",
            "weighted avg       0.99      0.99      0.99       809\n",
            "\n"
          ]
        }
      ],
      "source": [
        "import pandas as pd\n",
        "import seaborn as sns\n",
        "import matplotlib.pyplot as plt\n",
        "from sklearn.metrics import confusion_matrix, classification_report\n",
        "\n",
        "def print_confusion_matrix(y_true, y_pred, report=True):\n",
        "    labels = sorted(list(set(y_true)))\n",
        "    cmx_data = confusion_matrix(y_true, y_pred, labels=labels)\n",
        "    \n",
        "    df_cmx = pd.DataFrame(cmx_data, index=labels, columns=labels)\n",
        " \n",
        "    fig, ax = plt.subplots(figsize=(7, 6))\n",
        "    sns.heatmap(df_cmx, annot=True, fmt='g' ,square=False)\n",
        "    ax.set_ylim(len(set(y_true)), 0)\n",
        "    plt.show()\n",
        "    \n",
        "    if report:\n",
        "        print('Classification Report')\n",
        "        print(classification_report(y_test, y_pred))\n",
        "\n",
        "Y_pred = model.predict(X_test)\n",
        "y_pred = np.argmax(Y_pred, axis=1)\n",
        "\n",
        "print_confusion_matrix(y_test, y_pred)"
      ]
    },
    {
      "attachments": {},
      "cell_type": "markdown",
      "metadata": {
        "id": "FNP6aqzc9hE5"
      },
      "source": [
        "# Convert to model for Tensorflow-Lite"
      ]
    },
    {
      "cell_type": "code",
      "execution_count": 16,
      "metadata": {
        "id": "ODjnYyld9hE6"
      },
      "outputs": [],
      "source": [
        "# Save as a model dedicated to inference\n",
        "model.save(model_save_path, include_optimizer=False)"
      ]
    },
    {
      "cell_type": "code",
      "execution_count": 17,
      "metadata": {
        "colab": {
          "base_uri": "https://localhost:8080/"
        },
        "id": "zRfuK8Y59hE6",
        "outputId": "a4ca585c-b5d5-4244-8291-8674063209bb"
      },
      "outputs": [
        {
          "name": "stderr",
          "output_type": "stream",
          "text": [
            "WARNING:absl:Found untraced functions such as _update_step_xla while saving (showing 1 of 1). These functions will not be directly callable after loading.\n"
          ]
        },
        {
          "name": "stdout",
          "output_type": "stream",
          "text": [
            "INFO:tensorflow:Assets written to: C:\\Users\\Tanap\\AppData\\Local\\Temp\\tmptx8qrzam\\assets\n"
          ]
        },
        {
          "name": "stderr",
          "output_type": "stream",
          "text": [
            "INFO:tensorflow:Assets written to: C:\\Users\\Tanap\\AppData\\Local\\Temp\\tmptx8qrzam\\assets\n"
          ]
        },
        {
          "data": {
            "text/plain": [
              "6808"
            ]
          },
          "execution_count": 17,
          "metadata": {},
          "output_type": "execute_result"
        }
      ],
      "source": [
        "# Transform model (quantization)\n",
        "\n",
        "converter = tf.lite.TFLiteConverter.from_keras_model(model)\n",
        "converter.optimizations = [tf.lite.Optimize.DEFAULT]\n",
        "tflite_quantized_model = converter.convert()\n",
        "\n",
        "open(tflite_save_path, 'wb').write(tflite_quantized_model)"
      ]
    },
    {
      "attachments": {},
      "cell_type": "markdown",
      "metadata": {
        "id": "CHBPBXdx9hE6"
      },
      "source": [
        "# Testing"
      ]
    },
    {
      "cell_type": "code",
      "execution_count": 18,
      "metadata": {
        "id": "mGAzLocO9hE7"
      },
      "outputs": [],
      "source": [
        "interpreter = tf.lite.Interpreter(model_path=tflite_save_path)\n",
        "interpreter.allocate_tensors()"
      ]
    },
    {
      "cell_type": "code",
      "execution_count": 19,
      "metadata": {
        "id": "oQuDK8YS9hE7"
      },
      "outputs": [],
      "source": [
        "# Get I / O tensor\n",
        "input_details = interpreter.get_input_details()\n",
        "output_details = interpreter.get_output_details()"
      ]
    },
    {
      "cell_type": "code",
      "execution_count": 20,
      "metadata": {
        "id": "2_ixAf_l9hE7"
      },
      "outputs": [],
      "source": [
        "interpreter.set_tensor(input_details[0]['index'], np.array([X_test[0]]))"
      ]
    },
    {
      "cell_type": "code",
      "execution_count": 21,
      "metadata": {
        "colab": {
          "base_uri": "https://localhost:8080/"
        },
        "id": "s4FoAnuc9hE7",
        "outputId": "91f18257-8d8b-4ef3-c558-e9b5f94fabbf",
        "scrolled": true
      },
      "outputs": [
        {
          "name": "stdout",
          "output_type": "stream",
          "text": [
            "CPU times: total: 0 ns\n",
            "Wall time: 1 ms\n"
          ]
        }
      ],
      "source": [
        "# Inference implementation\n",
        "interpreter.invoke()\n",
        "tflite_results = interpreter.get_tensor(output_details[0]['index'])"
      ]
    },
    {
      "cell_type": "code",
      "execution_count": 22,
      "metadata": {
        "colab": {
          "base_uri": "https://localhost:8080/"
        },
        "id": "vONjp19J9hE8",
        "outputId": "77205e24-fd00-42c4-f7b6-e06e527c2cba"
      },
      "outputs": [
        {
          "name": "stdout",
          "output_type": "stream",
          "text": [
            "[1.0281635e-31 5.1806483e-33 0.0000000e+00 0.0000000e+00 1.0000000e+00\n",
            " 0.0000000e+00 0.0000000e+00 1.7551262e-10 1.4028908e-23 0.0000000e+00]\n",
            "4\n"
          ]
        }
      ],
      "source": [
        "print(np.squeeze(tflite_results))\n",
        "print(np.argmax(np.squeeze(tflite_results)))"
      ]
    },
    {
      "cell_type": "code",
      "execution_count": null,
      "metadata": {},
      "outputs": [],
      "source": []
    }
  ],
  "metadata": {
    "accelerator": "GPU",
    "colab": {
      "collapsed_sections": [],
      "name": "keypoint_classification_EN.ipynb",
      "provenance": [],
      "toc_visible": true
    },
    "kernelspec": {
      "display_name": "Python 3",
      "language": "python",
      "name": "python3"
    },
    "language_info": {
      "codemirror_mode": {
        "name": "ipython",
        "version": 3
      },
      "file_extension": ".py",
      "mimetype": "text/x-python",
      "name": "python",
      "nbconvert_exporter": "python",
      "pygments_lexer": "ipython3",
      "version": "3.10.10"
    }
  },
  "nbformat": 4,
  "nbformat_minor": 0
}
